{
 "cells": [
  {
   "cell_type": "code",
   "execution_count": null,
   "id": "27b5fb64-515f-4512-80fd-16d4d03096af",
   "metadata": {
    "tags": []
   },
   "outputs": [],
   "source": [
    "#1\n",
    "a = \"string\"\n",
    "b = [1,2,3,4,5,\"list\", 45+1j]\n",
    "c = 10.87\n",
    "d = (\"apple\", \"banana\")"
   ]
  },
  {
   "cell_type": "code",
   "execution_count": null,
   "id": "d87bdc3e-372b-43bc-b0a0-5ab084dc95e0",
   "metadata": {},
   "outputs": [],
   "source": [
    "#2\n",
    "string\n",
    "string\n",
    "list\n",
    "float"
   ]
  },
  {
   "cell_type": "code",
   "execution_count": 10,
   "id": "1efe632a-bc99-443a-8a6d-6e998b2c1186",
   "metadata": {},
   "outputs": [
    {
     "name": "stdout",
     "output_type": "stream",
     "text": [
      "5.0\n",
      "2\n",
      "7\n",
      "27\n"
     ]
    }
   ],
   "source": [
    "#3\n",
    "a1 = 10 / 2 #division operator returns the quotient of the number i.e.5\n",
    "print(a1)\n",
    "\n",
    "b1 = 12 % 5 #modulo operator returns reminder of the number i.e. 2\n",
    "print(b1)\n",
    "\n",
    "c1 = 15 // 2 #floor division operator rounds the digit to nearest whole number i.e. 7\n",
    "print(c1)\n",
    "\n",
    "d1 = 3**3 #exponential operator, returns exponent of a number i.e. 27\n",
    "print(d1)"
   ]
  },
  {
   "cell_type": "code",
   "execution_count": 11,
   "id": "5f6c75d8-b011-456e-9305-00edc8b37d6c",
   "metadata": {},
   "outputs": [
    {
     "name": "stdout",
     "output_type": "stream",
     "text": [
      "1 <class 'int'>\n",
      "3 <class 'int'>\n",
      "5 <class 'int'>\n",
      "7 <class 'int'>\n",
      "apple <class 'str'>\n",
      "banana <class 'str'>\n",
      "1.2 <class 'float'>\n",
      "(2+3j) <class 'complex'>\n",
      "cherry <class 'str'>\n",
      "mango <class 'str'>\n"
     ]
    }
   ],
   "source": [
    "#4 list to print elements and data type\n",
    "list_1 = [1,3,5,7, \"apple\", \"banana\", 1.2, 2+3j, 'cherry',\"mango\"]\n",
    "for i in list_1:\n",
    "    print(i, type(i))"
   ]
  },
  {
   "cell_type": "code",
   "execution_count": 25,
   "id": "ac86c211-6c92-4299-8953-6bd946ebde5f",
   "metadata": {},
   "outputs": [
    {
     "name": "stdout",
     "output_type": "stream",
     "text": [
      " A is divisible by B 3 times\n"
     ]
    }
   ],
   "source": [
    "#5\n",
    "A = 8\n",
    "B = 2\n",
    "count = 0\n",
    "while A % B == 0:\n",
    "    A = A / B\n",
    "    count = count + 1\n",
    "if count > 0:\n",
    "    print(\" A is divisible by B\", count, \"times\")\n",
    "else:\n",
    "    print(\"A is not divisible by B\")"
   ]
  },
  {
   "cell_type": "code",
   "execution_count": 15,
   "id": "c9865c5d-a821-462a-bc60-a932cee58a2d",
   "metadata": {},
   "outputs": [
    {
     "name": "stdout",
     "output_type": "stream",
     "text": [
      "1 is not divisible by 3\n",
      "2 is not divisible by 3\n",
      "3 is divisible by 3\n",
      "4 is not divisible by 3\n",
      "5 is not divisible by 3\n",
      "6 is divisible by 3\n",
      "7 is not divisible by 3\n",
      "8 is not divisible by 3\n",
      "9 is divisible by 3\n",
      "10 is not divisible by 3\n",
      "11 is not divisible by 3\n",
      "12 is divisible by 3\n",
      "13 is not divisible by 3\n",
      "14 is not divisible by 3\n",
      "15 is divisible by 3\n",
      "16 is not divisible by 3\n",
      "17 is not divisible by 3\n",
      "18 is divisible by 3\n",
      "19 is not divisible by 3\n",
      "20 is not divisible by 3\n",
      "21 is divisible by 3\n",
      "22 is not divisible by 3\n",
      "23 is not divisible by 3\n",
      "24 is divisible by 3\n",
      "25 is not divisible by 3\n"
     ]
    }
   ],
   "source": [
    "#6\n",
    "list_2 = [1,2,3,4,5,6,7,8,9,10,11,12,13,14,15,16,17,18,19,20,21,22,23,24,25]\n",
    "for i in list_2:\n",
    "    if i % 3 == 0:\n",
    "        print(i, \"is divisible by 3\")\n",
    "    else:\n",
    "        print(i, \"is not divisible by 3\")"
   ]
  },
  {
   "cell_type": "code",
   "execution_count": 20,
   "id": "27fe8c0f-11ae-499f-9472-c8f91117109e",
   "metadata": {},
   "outputs": [
    {
     "name": "stdout",
     "output_type": "stream",
     "text": [
      "apple\n",
      "[1, 3, 5, 7, 9, 'cherry']\n",
      "l\n"
     ]
    },
    {
     "ename": "TypeError",
     "evalue": "'str' object does not support item assignment",
     "output_type": "error",
     "traceback": [
      "\u001b[0;31m---------------------------------------------------------------------------\u001b[0m",
      "\u001b[0;31mTypeError\u001b[0m                                 Traceback (most recent call last)",
      "Cell \u001b[0;32mIn[20], line 16\u001b[0m\n\u001b[1;32m     13\u001b[0m string1 \u001b[38;5;241m=\u001b[39m \u001b[38;5;124m\"\u001b[39m\u001b[38;5;124mApple\u001b[39m\u001b[38;5;124m\"\u001b[39m\n\u001b[1;32m     14\u001b[0m \u001b[38;5;28mprint\u001b[39m(string1[\u001b[38;5;241m3\u001b[39m])\n\u001b[0;32m---> 16\u001b[0m \u001b[43mstring1\u001b[49m\u001b[43m[\u001b[49m\u001b[38;5;241;43m3\u001b[39;49m\u001b[43m]\u001b[49m \u001b[38;5;241m=\u001b[39m \u001b[38;5;124m'\u001b[39m\u001b[38;5;124ma\u001b[39m\u001b[38;5;124m'\u001b[39m\n\u001b[1;32m     17\u001b[0m \u001b[38;5;28mprint\u001b[39m(string)\n",
      "\u001b[0;31mTypeError\u001b[0m: 'str' object does not support item assignment"
     ]
    }
   ],
   "source": [
    "#7\n",
    "#Mutable data types are data types where we can append or edit the current variable. Ex: Lists\n",
    "#Immutable data tupes connot be edited or append the current variable. Ex: Strings\n",
    "\n",
    "#mutable\n",
    "list_3 = [1,3,5,7,9, \"apple\"]\n",
    "print(list_3[5]) #returns apple\n",
    "\n",
    "list_3[5] = \"cherry\"\n",
    "print(list_3) #returns cherry in place of apple\n",
    "\n",
    "#immutable\n",
    "string1 = \"Apple\"\n",
    "print(string1[3]) #returns 'l'\n",
    "\n",
    "string1[3] = 'a'\n",
    "print(string) #rteurns type error as string cannot be mutable\n"
   ]
  },
  {
   "cell_type": "code",
   "execution_count": null,
   "id": "1b37636b-7e56-4f3f-9f70-9133b5af84ea",
   "metadata": {},
   "outputs": [],
   "source": []
  }
 ],
 "metadata": {
  "kernelspec": {
   "display_name": "Python 3 (ipykernel)",
   "language": "python",
   "name": "python3"
  },
  "language_info": {
   "codemirror_mode": {
    "name": "ipython",
    "version": 3
   },
   "file_extension": ".py",
   "mimetype": "text/x-python",
   "name": "python",
   "nbconvert_exporter": "python",
   "pygments_lexer": "ipython3",
   "version": "3.10.8"
  }
 },
 "nbformat": 4,
 "nbformat_minor": 5
}
