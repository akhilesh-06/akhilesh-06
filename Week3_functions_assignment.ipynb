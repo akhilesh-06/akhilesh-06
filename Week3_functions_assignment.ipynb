{
 "cells": [
  {
   "cell_type": "code",
   "execution_count": 2,
   "id": "e887ae3c-9f82-4b84-804c-fefa813097a7",
   "metadata": {},
   "outputs": [
    {
     "data": {
      "text/plain": [
       "[1, 3, 5, 7, 9, 11, 13, 15, 17, 19, 21, 23]"
      ]
     },
     "execution_count": 2,
     "metadata": {},
     "output_type": "execute_result"
    }
   ],
   "source": [
    "#1\n",
    "\n",
    "#def keyword is used to create a function\n",
    "\n",
    "def odd_num():\n",
    "    l1 = []\n",
    "    for i in range(1, 25):\n",
    "        if i % 2 != 0:\n",
    "            l1.append(i)\n",
    "    return l1\n",
    "                    \n",
    "odd_num()"
   ]
  },
  {
   "cell_type": "code",
   "execution_count": 28,
   "id": "50903048-dd20-42e5-9b44-24c3d604b7a9",
   "metadata": {},
   "outputs": [
    {
     "data": {
      "text/plain": [
       "(dict_keys(['a', 'b']),\n",
       " dict_values([10, {'a': 100, 'name': 'python', 'Version': '3.7.2'}]))"
      ]
     },
     "execution_count": 28,
     "metadata": {},
     "output_type": "execute_result"
    }
   ],
   "source": [
    "#2\n",
    "\n",
    "#args and kwargs are used when user doesn't know how many inputs are required for a function, where\n",
    "#args are used to give input for all datatype except dictionary and kwargs is used as an argument for dictionary inputs\n",
    "\n",
    "#args example\n",
    "l1 = [1,2,3,4,5]\n",
    "def l2(*args):\n",
    "    return args\n",
    "\n",
    "l2(l1)    \n",
    "\n",
    "#kwargs example\n",
    "def l3(**kwargs):\n",
    "    return kwargs.keys(),  kwargs.values()\n",
    "\n",
    "l3(a = 10 ,b = {\"a\": 100, \"name\": \"python\", \"Version\" : \"3.7.2\"})\n"
   ]
  },
  {
   "cell_type": "code",
   "execution_count": 6,
   "id": "83cdc0a7-c9fd-4963-ba48-9aec77209d45",
   "metadata": {},
   "outputs": [
    {
     "name": "stdout",
     "output_type": "stream",
     "text": [
      "2\n",
      "4\n",
      "6\n",
      "8\n",
      "10\n"
     ]
    }
   ],
   "source": [
    "#3 \n",
    "\n",
    "#iterator is used to iterate through loop or string to return iterated values\n",
    "#next() is the method used to initialise the iterator object \n",
    "\n",
    "list1 = [2, 4, 6, 8, 10, 12, 14, 16,18, 20]\n",
    "my_list = iter(list1)\n",
    "print(next(my_list))\n",
    "print(next(my_list))\n",
    "print(next(my_list))\n",
    "print(next(my_list))\n",
    "print(next(my_list))\n"
   ]
  },
  {
   "cell_type": "code",
   "execution_count": 8,
   "id": "07fc9348-50eb-4556-b29d-df9bfda47297",
   "metadata": {},
   "outputs": [
    {
     "name": "stdout",
     "output_type": "stream",
     "text": [
      "0 1 2 3 4 5 6 7 8 9 10 11 12 13 14 15 16 17 18 19 20 "
     ]
    }
   ],
   "source": [
    "#4 A Generator in Python is a function that returns an iterator using the Yield keyword\n",
    "# yield keyword is used as same as return statement to return a value, this however executes whereas return statement doesn't\n",
    "\n",
    "def gen_func():\n",
    "    num = 0\n",
    "    while num <= 20:\n",
    "        yield num\n",
    "        num += 1\n",
    "for x in gen_func():\n",
    "    print(x, end= \" \")\n",
    "    "
   ]
  },
  {
   "cell_type": "code",
   "execution_count": 2,
   "id": "4faabb9a-f641-48a0-a6f5-0e7878f22c0a",
   "metadata": {},
   "outputs": [
    {
     "name": "stdout",
     "output_type": "stream",
     "text": [
      "2,3,5,7,11,13,17,19,23,29,31,37,41,43,47,53,59,61,67,71,"
     ]
    }
   ],
   "source": [
    "# program to create a generator function for prime numbers less than 1000.\n",
    "\n",
    "def isprime(num):\n",
    "    if num < 2:\n",
    "        return False\n",
    "    for i in range (2, int(num**0.5)+1):\n",
    "        if num % i == 0:\n",
    "            return False\n",
    "    return True\n",
    "\n",
    "def prime_gen():\n",
    "    num = 2\n",
    "    while num < 1000:\n",
    "        if isprime(num):\n",
    "            yield num\n",
    "        num += 1\n",
    "\n",
    "prime_gen = prime_gen()\n",
    "\n",
    "for i in range(20):\n",
    "    print(next(prime_gen), end=\",\")\n",
    "\n",
    "    \n",
    "\n"
   ]
  },
  {
   "cell_type": "code",
   "execution_count": null,
   "id": "115b1fe7-50da-418d-827b-0b19480427b4",
   "metadata": {},
   "outputs": [],
   "source": []
  }
 ],
 "metadata": {
  "kernelspec": {
   "display_name": "Python 3 (ipykernel)",
   "language": "python",
   "name": "python3"
  },
  "language_info": {
   "codemirror_mode": {
    "name": "ipython",
    "version": 3
   },
   "file_extension": ".py",
   "mimetype": "text/x-python",
   "name": "python",
   "nbconvert_exporter": "python",
   "pygments_lexer": "ipython3",
   "version": "3.10.8"
  }
 },
 "nbformat": 4,
 "nbformat_minor": 5
}
