{
 "cells": [
  {
   "cell_type": "code",
   "execution_count": null,
   "id": "fd8fd6c3-c076-447f-8e0e-a3bb5d9e8e2c",
   "metadata": {},
   "outputs": [],
   "source": [
    "#1\n",
    "Code is Commented by using '#' symbol for single line and multi line comment by \"\"\" \"\"\"\n",
    "\n",
    "Types of comment\n",
    "#This is Single line comment\n",
    "\"\"\" This is \n",
    "Multi line comment\"\"\""
   ]
  },
  {
   "cell_type": "code",
   "execution_count": 3,
   "id": "a6946a2f-d938-4d63-ac2d-303394bf4138",
   "metadata": {},
   "outputs": [],
   "source": [
    "#2 \n",
    "#Variables are used to store values or act like a container for storing of values\n",
    "\n",
    "#Declaring values to variables\n",
    "\n",
    "a = 10\n",
    "b = \"Python\"\n",
    "c = 5.655\n",
    "d = 2+3j"
   ]
  },
  {
   "cell_type": "code",
   "execution_count": null,
   "id": "682f5c47-310a-4c9c-b520-ab3bb43fc150",
   "metadata": {},
   "outputs": [],
   "source": [
    "#3\n",
    "We use the particular name of the data type to which we want to convert\n",
    "\n",
    "list(b)\n",
    "str(c)\n",
    "int(c)\n",
    "set(b)\n",
    "tuple(b)\n",
    "dict(b)"
   ]
  },
  {
   "cell_type": "code",
   "execution_count": null,
   "id": "4445e7c6-a2a4-40b2-a34c-ecdf53a33089",
   "metadata": {},
   "outputs": [],
   "source": [
    "#4\n",
    "we open command line by typing cmd and then type python3.7 to open python on command line"
   ]
  },
  {
   "cell_type": "code",
   "execution_count": 19,
   "id": "aff0a50f-f456-4ac9-8c2c-00a9716d24e8",
   "metadata": {},
   "outputs": [
    {
     "data": {
      "text/plain": [
       "[2, 3]"
      ]
     },
     "execution_count": 19,
     "metadata": {},
     "output_type": "execute_result"
    }
   ],
   "source": [
    "#5\n",
    "\n",
    "my_list = [1,2,3,4,5]\n",
    "my_list[1:3]\n",
    "my_list[-4:-2]"
   ]
  },
  {
   "cell_type": "code",
   "execution_count": 22,
   "id": "e9124d76-ab0c-436c-8895-062f695d66be",
   "metadata": {},
   "outputs": [
    {
     "data": {
      "text/plain": [
       "complex"
      ]
     },
     "execution_count": 22,
     "metadata": {},
     "output_type": "execute_result"
    }
   ],
   "source": [
    "#6 \n",
    "Complex number are numbers which have real part and imaginary part and expressed as a+ib like 1+3j where 1 is real part and 3j is imaginary part\n",
    "\n",
    "a = 1+3j\n",
    "type(a)"
   ]
  },
  {
   "cell_type": "code",
   "execution_count": null,
   "id": "ff38d99f-c56a-429e-8195-ede2116a5b41",
   "metadata": {},
   "outputs": [],
   "source": [
    "#7\n",
    "\n",
    "age = 25"
   ]
  },
  {
   "cell_type": "code",
   "execution_count": 23,
   "id": "5a3c6e7d-fe41-4847-8527-d6fd5d67ab31",
   "metadata": {},
   "outputs": [
    {
     "data": {
      "text/plain": [
       "float"
      ]
     },
     "execution_count": 23,
     "metadata": {},
     "output_type": "execute_result"
    }
   ],
   "source": [
    "#8\n",
    "\n",
    "price = 9.99\n",
    "#this belongs to float datatype\n",
    "\n",
    "type(price)"
   ]
  },
  {
   "cell_type": "code",
   "execution_count": 24,
   "id": "07f26669-78af-4c36-a79c-f035e7ed0361",
   "metadata": {},
   "outputs": [
    {
     "name": "stdout",
     "output_type": "stream",
     "text": [
      "Akhilesh Mutagi\n"
     ]
    },
    {
     "data": {
      "text/plain": [
       "'Akhilesh Mutagi'"
      ]
     },
     "execution_count": 24,
     "metadata": {},
     "output_type": "execute_result"
    }
   ],
   "source": [
    "#9\n",
    "\n",
    "name = \"Akhilesh Mutagi\"\n",
    "print(name)\n",
    "name"
   ]
  },
  {
   "cell_type": "code",
   "execution_count": 28,
   "id": "bd431148-0605-43da-b5d4-d0657da946a4",
   "metadata": {},
   "outputs": [
    {
     "data": {
      "text/plain": [
       "'World'"
      ]
     },
     "execution_count": 28,
     "metadata": {},
     "output_type": "execute_result"
    }
   ],
   "source": [
    "#10\n",
    "\n",
    "str1 = \"Hello, World!\"\n",
    "str1[7:12]\n",
    "str1[-6:-1]"
   ]
  },
  {
   "cell_type": "code",
   "execution_count": null,
   "id": "7bab2db8-7be6-4522-b67d-fcc77cd2b7e1",
   "metadata": {},
   "outputs": [],
   "source": [
    "#11\n",
    "\n",
    "is_student = False"
   ]
  }
 ],
 "metadata": {
  "kernelspec": {
   "display_name": "Python 3 (ipykernel)",
   "language": "python",
   "name": "python3"
  },
  "language_info": {
   "codemirror_mode": {
    "name": "ipython",
    "version": 3
   },
   "file_extension": ".py",
   "mimetype": "text/x-python",
   "name": "python",
   "nbconvert_exporter": "python",
   "pygments_lexer": "ipython3",
   "version": "3.10.8"
  }
 },
 "nbformat": 4,
 "nbformat_minor": 5
}
